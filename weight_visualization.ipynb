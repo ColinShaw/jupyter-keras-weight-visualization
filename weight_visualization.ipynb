{
 "cells": [
  {
   "cell_type": "markdown",
   "metadata": {},
   "source": [
    "# VGG16 Weights Visualization"
   ]
  },
  {
   "cell_type": "markdown",
   "metadata": {},
   "source": [
    "### Start out by printing a summary of the VGG16 model from Keras"
   ]
  },
  {
   "cell_type": "code",
   "execution_count": 22,
   "metadata": {},
   "outputs": [
    {
     "name": "stdout",
     "output_type": "stream",
     "text": [
      "_________________________________________________________________\n",
      "Layer (type)                 Output Shape              Param #   \n",
      "=================================================================\n",
      "input_21 (InputLayer)        (None, None, None, 3)     0         \n",
      "_________________________________________________________________\n",
      "block1_conv1 (Conv2D)        (None, None, None, 64)    1792      \n",
      "_________________________________________________________________\n",
      "block1_conv2 (Conv2D)        (None, None, None, 64)    36928     \n",
      "_________________________________________________________________\n",
      "block1_pool (MaxPooling2D)   (None, None, None, 64)    0         \n",
      "_________________________________________________________________\n",
      "block2_conv1 (Conv2D)        (None, None, None, 128)   73856     \n",
      "_________________________________________________________________\n",
      "block2_conv2 (Conv2D)        (None, None, None, 128)   147584    \n",
      "_________________________________________________________________\n",
      "block2_pool (MaxPooling2D)   (None, None, None, 128)   0         \n",
      "_________________________________________________________________\n",
      "block3_conv1 (Conv2D)        (None, None, None, 256)   295168    \n",
      "_________________________________________________________________\n",
      "block3_conv2 (Conv2D)        (None, None, None, 256)   590080    \n",
      "_________________________________________________________________\n",
      "block3_conv3 (Conv2D)        (None, None, None, 256)   590080    \n",
      "_________________________________________________________________\n",
      "block3_pool (MaxPooling2D)   (None, None, None, 256)   0         \n",
      "_________________________________________________________________\n",
      "block4_conv1 (Conv2D)        (None, None, None, 512)   1180160   \n",
      "_________________________________________________________________\n",
      "block4_conv2 (Conv2D)        (None, None, None, 512)   2359808   \n",
      "_________________________________________________________________\n",
      "block4_conv3 (Conv2D)        (None, None, None, 512)   2359808   \n",
      "_________________________________________________________________\n",
      "block4_pool (MaxPooling2D)   (None, None, None, 512)   0         \n",
      "_________________________________________________________________\n",
      "block5_conv1 (Conv2D)        (None, None, None, 512)   2359808   \n",
      "_________________________________________________________________\n",
      "block5_conv2 (Conv2D)        (None, None, None, 512)   2359808   \n",
      "_________________________________________________________________\n",
      "block5_conv3 (Conv2D)        (None, None, None, 512)   2359808   \n",
      "_________________________________________________________________\n",
      "block5_pool (MaxPooling2D)   (None, None, None, 512)   0         \n",
      "=================================================================\n",
      "Total params: 14,714,688\n",
      "Trainable params: 14,714,688\n",
      "Non-trainable params: 0\n",
      "_________________________________________________________________\n"
     ]
    }
   ],
   "source": [
    "from keras.applications import VGG16\n",
    "\n",
    "vgg16 = VGG16(weights='imagenet', include_top=False)\n",
    "vgg16.summary()\n"
   ]
  },
  {
   "cell_type": "markdown",
   "metadata": {},
   "source": [
    "### Now let's look at the shape of the weights"
   ]
  },
  {
   "cell_type": "code",
   "execution_count": 27,
   "metadata": {},
   "outputs": [
    {
     "name": "stdout",
     "output_type": "stream",
     "text": [
      "0-> (3, 3, 3, 64)\n",
      "1-> (64,)\n",
      "2-> (3, 3, 64, 64)\n",
      "3-> (64,)\n",
      "4-> (3, 3, 64, 128)\n",
      "5-> (128,)\n",
      "6-> (3, 3, 128, 128)\n",
      "7-> (128,)\n",
      "8-> (3, 3, 128, 256)\n",
      "9-> (256,)\n",
      "10-> (3, 3, 256, 256)\n",
      "11-> (256,)\n",
      "12-> (3, 3, 256, 256)\n",
      "13-> (256,)\n",
      "14-> (3, 3, 256, 512)\n",
      "15-> (512,)\n",
      "16-> (3, 3, 512, 512)\n",
      "17-> (512,)\n",
      "18-> (3, 3, 512, 512)\n",
      "19-> (512,)\n",
      "20-> (3, 3, 512, 512)\n",
      "21-> (512,)\n",
      "22-> (3, 3, 512, 512)\n",
      "23-> (512,)\n",
      "24-> (3, 3, 512, 512)\n",
      "25-> (512,)\n"
     ]
    }
   ],
   "source": [
    "import numpy as np\n",
    "\n",
    "weights = np.array(vgg16.get_weights())\n",
    "\n",
    "for i in range(len(weights)):\n",
    "    print('{}-> {}'.format(i, weights[i].shape))\n"
   ]
  },
  {
   "cell_type": "markdown",
   "metadata": {},
   "source": [
    "### The evens are the weights, the odds are the biases.  If you sum the weights and biases for a given layer, you will get the same number of trainable parameters as the summary.  \n",
    "\n",
    "### Now we want to be able to plot things by defining a convenient function for plotting an abitrary number of subplots."
   ]
  },
  {
   "cell_type": "code",
   "execution_count": 40,
   "metadata": {},
   "outputs": [],
   "source": [
    "import matplotlib.pyplot as plt\n",
    "import numpy             as np\n",
    "%matplotlib inline\n",
    "\n",
    "def plot_many(data):\n",
    "    n = int(np.ceil(np.sqrt(len(data))))\n",
    "    fig, axes = plt.subplots(n, n, figsize=(8,8))\n",
    "    for i, image in enumerate(data):\n",
    "        a = axes.flatten()[i]\n",
    "        a.axis('off')\n",
    "        #a.imshow(image)\n",
    "        a.imshow(image, cmap='gray')\n",
    "    while i < n*n:\n",
    "        axes.flatten()[i].axis('off')\n",
    "        i += 1\n"
   ]
  },
  {
   "cell_type": "markdown",
   "metadata": {},
   "source": [
    "### Now we just have to transform layer weights into something `plot_many()` can display.\n",
    "\n",
    "### The first set is the most obvious since it is 64 sets of 3x3 RGB convolution filters."
   ]
  },
  {
   "cell_type": "code",
   "execution_count": 41,
   "metadata": {},
   "outputs": [
    {
     "data": {
      "image/png": "[encoded data removed]",
      "text/plain": [
       "<matplotlib.figure.Figure at 0x7fc39f6a0fd0>"
      ]
     },
     "metadata": {},
     "output_type": "display_data"
    },
    {
     "data": {
      "image/png": "[encoded data removed]",
      "text/plain": [
       "<matplotlib.figure.Figure at 0x7fc39f6a9c50>"
      ]
     },
     "metadata": {},
     "output_type": "display_data"
    },
    {
     "data": {
      "image/png": "[encoded data removed]",
      "text/plain": [
       "<matplotlib.figure.Figure at 0x7fc39f3a6750>"
      ]
     },
     "metadata": {},
     "output_type": "display_data"
    }
   ],
   "source": [
    "r = np.reshape(weights[0][0], (64,3,3))\n",
    "g = np.reshape(weights[0][1], (64,3,3))\n",
    "b = np.reshape(weights[0][2], (64,3,3))\n",
    "plot_many(r)\n",
    "plot_many(g)\n",
    "plot_many(b)\n"
   ]
  },
  {
   "cell_type": "markdown",
   "metadata": {},
   "source": [
    "### The next layers are more complicated since they are not RGB."
   ]
  },
  {
   "cell_type": "code",
   "execution_count": null,
   "metadata": {},
   "outputs": [],
   "source": []
  },
  {
   "cell_type": "code",
   "execution_count": null,
   "metadata": {},
   "outputs": [],
   "source": [
    "for i in range(len(weights)):\n",
    "    j = 2*i\n",
    "    print('{} -> {}'.format(j, weights[j].shape))\n",
    "\n",
    "def plot_layer(x, y):\n",
    "    w = weights[x][y]\n",
    "    how_many = w.shape[2]\n",
    "    size = w.shape[0]\n",
    "    w = np.reshape(w, (how_many,size,size))\n",
    "    n = int(np.ceil(np.sqrt(len(w))))\n",
    "    fig, axes = plt.subplots(n, n, figsize=(3,3))\n",
    "    for i, image in enumerate(w):\n",
    "        a = axes.flatten()[i]\n",
    "        a.axis('off')\n",
    "        a.imshow(image, cmap='gray')\n",
    "    while i < n*n:\n",
    "        axes.flatten()[i].axis('off')\n",
    "        i += 1\n",
    "\n",
    "#plot_layer(0,0)\n",
    "#plot_layer(0,1)\n",
    "#plot_layer(0,2)"
   ]
  }
 ],
 "metadata": {
  "kernelspec": {
   "display_name": "Python 2",
   "language": "python",
   "name": "python2"
  },
  "language_info": {
   "codemirror_mode": {
    "name": "ipython",
    "version": 2
   },
   "file_extension": ".py",
   "mimetype": "text/x-python",
   "name": "python",
   "nbconvert_exporter": "python",
   "pygments_lexer": "ipython2",
   "version": "2.7.12"
  }
 },
 "nbformat": 4,
 "nbformat_minor": 2
}
